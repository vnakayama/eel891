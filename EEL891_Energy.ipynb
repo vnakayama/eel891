{
 "nbformat": 4,
 "nbformat_minor": 2,
 "metadata": {
  "language_info": {
   "name": "python",
   "codemirror_mode": {
    "name": "ipython",
    "version": 3
   },
   "version": "3.6.8"
  },
  "orig_nbformat": 2,
  "file_extension": ".py",
  "mimetype": "text/x-python",
  "name": "python",
  "npconvert_exporter": "python",
  "pygments_lexer": "ipython3",
  "version": 3
 },
 "cells": [
  {
   "cell_type": "markdown",
   "metadata": {},
   "outputs": [],
   "source": [
    "# ASHRAE - Great Energy Predictor III\n",
    "### *How much energy will a building consume?*"
   ]
  },
  {
   "cell_type": "markdown",
   "metadata": {},
   "outputs": [],
   "source": [
    "## Entendimento do problema\n",
    "\n",
    "### Enunciado\n",
    "\n",
    "*In this competition, you’ll develop accurate models of metered building energy usage in the following areas: chilled water, electric, hot water, and steam meters. The data comes from over 1,000 buildings over a three-year timeframe. With better estimates of these energy-saving investments, large scale investors and financial institutions will be more inclined to invest in this area to enable progress in building efficiencies.*\n",
    "\n",
    "### Dados disponibilizados\n",
    "\n",
    "**train.csv**\n",
    "> * building_id - Foreign key for the building metadata.\n",
    "> * meter - The meter id code. Read as {0: electricity, 1: chilledwater, 2: steam, hotwater: 3}. Not every building has all meter types.\n",
    "> * timestamp - When the measurement was taken\n",
    "> * meter_reading - The target variable. Energy consumption in kWh (or equivalent). Note that this is real data with measurement error, which we expect will impose a baseline level of modeling error. \n",
    "\n",
    "**building_meta.csv**\n",
    "> * site_id - Foreign key for the weather files.\n",
    "> * building_id - Foreign key for training.csv\n",
    "> * primary_use - Indicator of the primary category of activities for the building based on EnergyStar property type definitions\n",
    "> * square_feet - Gross floor area of the building\n",
    "> * year_built - Year building was opened\n",
    "> * floorcount - Number of floors of the building\n",
    "\n",
    "**weather[train/test].csv** - Weather data from a meteorological station as close as possible to the site.\n",
    "\n",
    "> * site_id\n",
    "> * air_temperature - Degrees Celsius\n",
    "> * cloud_coverage - Portion of the sky covered in clouds, in oktas\n",
    "> * dew_temperature - Degrees Celsius\n",
    "> * precip_depth_1_hr - Millimeters\n",
    "sea_level_pressure - Millibar/hectopascals\n",
    "> * wind_direction - Compass direction (0-360)\n",
    "> * wind_speed - Meters per second\n",
    "\n",
    "**test.csv**\n",
    "\n",
    "> * row_id - Row id for your submission file\n",
    "> * building_id - Building id code\n",
    "> * meter - The meter id code\n",
    "> * timestamp - Timestamps for the test data period\n",
    "\n",
    "### Métrica de avaliação\n",
    "\n",
    "*Root Mean Squared Logarithmic Error*\n",
    "\n"
   ]
  },
  {
   "cell_type": "code",
   "execution_count": 18,
   "metadata": {},
   "outputs": [],
   "source": [
    "from sklearn.metrics import mean_squared_log_error\n",
    "\n",
    "def rmsle(y_test,predictions):\n",
    "    score = np.sqrt(mean_squared_log_error(y_test, predictions))\n",
    "    return score"
   ]
  },
  {
   "cell_type": "markdown",
   "metadata": {},
   "outputs": [],
   "source": [
    "## Preparação dos dados"
   ]
  },
  {
   "cell_type": "markdown",
   "metadata": {},
   "outputs": [],
   "source": [
    "### Importação das bibliotecas e arquivos externos a serem utilizados."
   ]
  },
  {
   "cell_type": "code",
   "execution_count": 19,
   "metadata": {},
   "outputs": [],
   "source": [
    "import pandas as pd \n",
    "import numpy as np\n",
    "from functions import *"
   ]
  },
  {
   "cell_type": "markdown",
   "metadata": {},
   "outputs": [],
   "source": [
    "### Carga dos dados"
   ]
  },
  {
   "cell_type": "code",
   "execution_count": 20,
   "metadata": {},
   "outputs": [],
   "source": [
    "path = \"./Data/\""
   ]
  },
  {
   "cell_type": "code",
   "execution_count": 21,
   "metadata": {},
   "outputs": [],
   "source": [
    "building_meta = pd.read_csv(path+\"building_metadata.csv\")\n",
    "weather_train = pd.read_csv(path+\"weather_train.csv\")\n",
    "#weather_test = pd.read_csv(path+\"weather_test.csv\")\n",
    "train_set = pd.read_csv(path+\"train.csv\")\n",
    "#test_set = pd.read_csv(path+\"test.csv\")"
   ]
  },
  {
   "cell_type": "markdown",
   "metadata": {},
   "outputs": [],
   "source": [
    "### Tratamento inicial dos dados"
   ]
  },
  {
   "cell_type": "code",
   "execution_count": 22,
   "metadata": {},
   "outputs": [
    {
     "name": "stdout",
     "output_type": "stream",
     "text": "Size of      train_set data: 20216100 rows,  4 columns / Mem. usage:  616.95 Mb\nSize of  weather_train data:   139773 rows,  9 columns / Mem. usage:    9.60 Mb\nSize of  building_meta data:     1449 rows,  6 columns / Mem. usage:    0.07 Mb\n"
    }
   ],
   "source": [
    "print(\"Size of {:>20s} {:>8} rows, {:>2} columns / Mem. usage: {:7.2f} Mb\".format(\"train_set data:\",train_set.shape[0],train_set.shape[1],train_set.memory_usage().sum()/1024**2))\n",
    "print(\"Size of {:>20s} {:>8} rows, {:>2} columns / Mem. usage: {:7.2f} Mb\".format(\"weather_train data:\",weather_train.shape[0],weather_train.shape[1],weather_train.memory_usage().sum()/1024**2))\n",
    "print(\"Size of {:>20s} {:>8} rows, {:>2} columns / Mem. usage: {:7.2f} Mb\".format(\"building_meta data:\",building_meta.shape[0],building_meta.shape[1],building_meta.memory_usage().sum()/1024**2))"
   ]
  },
  {
   "cell_type": "markdown",
   "metadata": {},
   "outputs": [],
   "source": [
    "### Redução do uso de memória\n",
    "\n",
    "Aplicação de script para redução de algarismos reduntantes para auxiliar na redução do uso de memória local."
   ]
  },
  {
   "cell_type": "code",
   "execution_count": 23,
   "metadata": {},
   "outputs": [
    {
     "name": "stdout",
     "output_type": "stream",
     "text": "Mem. usage decreased to  289.19 Mb (53.1% reduction)\nMem. usage decreased to    3.07 Mb (68.1% reduction)\nMem. usage decreased to    0.03 Mb (60.3% reduction)\n"
    }
   ],
   "source": [
    "train_set = reduce_mem_usage(train_set)\n",
    "weather_train = reduce_mem_usage(weather_train)\n",
    "building_meta = reduce_mem_usage(building_meta)"
   ]
  },
  {
   "cell_type": "markdown",
   "metadata": {},
   "outputs": [],
   "source": [
    "### Configuração de data e hora nas colunas *timestamp*"
   ]
  },
  {
   "cell_type": "code",
   "execution_count": 24,
   "metadata": {},
   "outputs": [],
   "source": [
    "train_set[\"timestamp\"] = pd.to_datetime(train_set[\"timestamp\"], format='%Y-%m-%d %H:%M:%S')\n",
    "weather_train[\"timestamp\"] = pd.to_datetime(weather_train[\"timestamp\"], format='%Y-%m-%d %H:%M:%S')"
   ]
  },
  {
   "cell_type": "markdown",
   "metadata": {},
   "outputs": [],
   "source": [
    "## Análise dos dados"
   ]
  },
  {
   "cell_type": "markdown",
   "metadata": {},
   "outputs": [],
   "source": [
    "### Prévia dos dataframes"
   ]
  },
  {
   "cell_type": "code",
   "execution_count": 25,
   "metadata": {},
   "outputs": [
    {
     "data": {
      "text/html": "<div>\n<style scoped>\n    .dataframe tbody tr th:only-of-type {\n        vertical-align: middle;\n    }\n\n    .dataframe tbody tr th {\n        vertical-align: top;\n    }\n\n    .dataframe thead th {\n        text-align: right;\n    }\n</style>\n<table border=\"1\" class=\"dataframe\">\n  <thead>\n    <tr style=\"text-align: right;\">\n      <th></th>\n      <th>building_id</th>\n      <th>meter</th>\n      <th>timestamp</th>\n      <th>meter_reading</th>\n    </tr>\n  </thead>\n  <tbody>\n    <tr>\n      <th>0</th>\n      <td>0</td>\n      <td>0</td>\n      <td>2016-01-01</td>\n      <td>0.0</td>\n    </tr>\n    <tr>\n      <th>1</th>\n      <td>1</td>\n      <td>0</td>\n      <td>2016-01-01</td>\n      <td>0.0</td>\n    </tr>\n    <tr>\n      <th>2</th>\n      <td>2</td>\n      <td>0</td>\n      <td>2016-01-01</td>\n      <td>0.0</td>\n    </tr>\n    <tr>\n      <th>3</th>\n      <td>3</td>\n      <td>0</td>\n      <td>2016-01-01</td>\n      <td>0.0</td>\n    </tr>\n    <tr>\n      <th>4</th>\n      <td>4</td>\n      <td>0</td>\n      <td>2016-01-01</td>\n      <td>0.0</td>\n    </tr>\n  </tbody>\n</table>\n</div>",
      "text/plain": "   building_id  meter  timestamp  meter_reading\n0            0      0 2016-01-01            0.0\n1            1      0 2016-01-01            0.0\n2            2      0 2016-01-01            0.0\n3            3      0 2016-01-01            0.0\n4            4      0 2016-01-01            0.0"
     },
     "execution_count": 25,
     "metadata": {},
     "output_type": "execute_result"
    }
   ],
   "source": [
    "train_set.head()"
   ]
  },
  {
   "cell_type": "code",
   "execution_count": 26,
   "metadata": {},
   "outputs": [
    {
     "data": {
      "text/html": "<div>\n<style scoped>\n    .dataframe tbody tr th:only-of-type {\n        vertical-align: middle;\n    }\n\n    .dataframe tbody tr th {\n        vertical-align: top;\n    }\n\n    .dataframe thead th {\n        text-align: right;\n    }\n</style>\n<table border=\"1\" class=\"dataframe\">\n  <thead>\n    <tr style=\"text-align: right;\">\n      <th></th>\n      <th>site_id</th>\n      <th>timestamp</th>\n      <th>air_temperature</th>\n      <th>cloud_coverage</th>\n      <th>dew_temperature</th>\n      <th>precip_depth_1_hr</th>\n      <th>sea_level_pressure</th>\n      <th>wind_direction</th>\n      <th>wind_speed</th>\n    </tr>\n  </thead>\n  <tbody>\n    <tr>\n      <th>0</th>\n      <td>0</td>\n      <td>2016-01-01 00:00:00</td>\n      <td>25.000000</td>\n      <td>6.0</td>\n      <td>20.00000</td>\n      <td>NaN</td>\n      <td>1019.5</td>\n      <td>0.0</td>\n      <td>0.000000</td>\n    </tr>\n    <tr>\n      <th>1</th>\n      <td>0</td>\n      <td>2016-01-01 01:00:00</td>\n      <td>24.406250</td>\n      <td>NaN</td>\n      <td>21.09375</td>\n      <td>-1.0</td>\n      <td>1020.0</td>\n      <td>70.0</td>\n      <td>1.500000</td>\n    </tr>\n    <tr>\n      <th>2</th>\n      <td>0</td>\n      <td>2016-01-01 02:00:00</td>\n      <td>22.796875</td>\n      <td>2.0</td>\n      <td>21.09375</td>\n      <td>0.0</td>\n      <td>1020.0</td>\n      <td>0.0</td>\n      <td>0.000000</td>\n    </tr>\n    <tr>\n      <th>3</th>\n      <td>0</td>\n      <td>2016-01-01 03:00:00</td>\n      <td>21.093750</td>\n      <td>2.0</td>\n      <td>20.59375</td>\n      <td>0.0</td>\n      <td>1020.0</td>\n      <td>0.0</td>\n      <td>0.000000</td>\n    </tr>\n    <tr>\n      <th>4</th>\n      <td>0</td>\n      <td>2016-01-01 04:00:00</td>\n      <td>20.000000</td>\n      <td>2.0</td>\n      <td>20.00000</td>\n      <td>-1.0</td>\n      <td>1020.0</td>\n      <td>250.0</td>\n      <td>2.599609</td>\n    </tr>\n  </tbody>\n</table>\n</div>",
      "text/plain": "   site_id           timestamp  air_temperature  cloud_coverage  \\\n0        0 2016-01-01 00:00:00        25.000000             6.0   \n1        0 2016-01-01 01:00:00        24.406250             NaN   \n2        0 2016-01-01 02:00:00        22.796875             2.0   \n3        0 2016-01-01 03:00:00        21.093750             2.0   \n4        0 2016-01-01 04:00:00        20.000000             2.0   \n\n   dew_temperature  precip_depth_1_hr  sea_level_pressure  wind_direction  \\\n0         20.00000                NaN              1019.5             0.0   \n1         21.09375               -1.0              1020.0            70.0   \n2         21.09375                0.0              1020.0             0.0   \n3         20.59375                0.0              1020.0             0.0   \n4         20.00000               -1.0              1020.0           250.0   \n\n   wind_speed  \n0    0.000000  \n1    1.500000  \n2    0.000000  \n3    0.000000  \n4    2.599609  "
     },
     "execution_count": 26,
     "metadata": {},
     "output_type": "execute_result"
    }
   ],
   "source": [
    "weather_train.head()"
   ]
  },
  {
   "cell_type": "code",
   "execution_count": 27,
   "metadata": {},
   "outputs": [
    {
     "data": {
      "text/html": "<div>\n<style scoped>\n    .dataframe tbody tr th:only-of-type {\n        vertical-align: middle;\n    }\n\n    .dataframe tbody tr th {\n        vertical-align: top;\n    }\n\n    .dataframe thead th {\n        text-align: right;\n    }\n</style>\n<table border=\"1\" class=\"dataframe\">\n  <thead>\n    <tr style=\"text-align: right;\">\n      <th></th>\n      <th>site_id</th>\n      <th>building_id</th>\n      <th>primary_use</th>\n      <th>square_feet</th>\n      <th>year_built</th>\n      <th>floor_count</th>\n    </tr>\n  </thead>\n  <tbody>\n    <tr>\n      <th>0</th>\n      <td>0</td>\n      <td>0</td>\n      <td>Education</td>\n      <td>7432</td>\n      <td>2008.0</td>\n      <td>NaN</td>\n    </tr>\n    <tr>\n      <th>1</th>\n      <td>0</td>\n      <td>1</td>\n      <td>Education</td>\n      <td>2720</td>\n      <td>2004.0</td>\n      <td>NaN</td>\n    </tr>\n    <tr>\n      <th>2</th>\n      <td>0</td>\n      <td>2</td>\n      <td>Education</td>\n      <td>5376</td>\n      <td>1991.0</td>\n      <td>NaN</td>\n    </tr>\n    <tr>\n      <th>3</th>\n      <td>0</td>\n      <td>3</td>\n      <td>Education</td>\n      <td>23685</td>\n      <td>2002.0</td>\n      <td>NaN</td>\n    </tr>\n    <tr>\n      <th>4</th>\n      <td>0</td>\n      <td>4</td>\n      <td>Education</td>\n      <td>116607</td>\n      <td>1975.0</td>\n      <td>NaN</td>\n    </tr>\n  </tbody>\n</table>\n</div>",
      "text/plain": "   site_id  building_id primary_use  square_feet  year_built  floor_count\n0        0            0   Education         7432      2008.0          NaN\n1        0            1   Education         2720      2004.0          NaN\n2        0            2   Education         5376      1991.0          NaN\n3        0            3   Education        23685      2002.0          NaN\n4        0            4   Education       116607      1975.0          NaN"
     },
     "execution_count": 27,
     "metadata": {},
     "output_type": "execute_result"
    }
   ],
   "source": [
    "building_meta.head()"
   ]
  },
  {
   "cell_type": "markdown",
   "metadata": {},
   "outputs": [],
   "source": [
    "### Verificação de valores vazios e NaN"
   ]
  },
  {
   "cell_type": "code",
   "execution_count": 28,
   "metadata": {},
   "outputs": [
    {
     "data": {
      "text/html": "<div>\n<style scoped>\n    .dataframe tbody tr th:only-of-type {\n        vertical-align: middle;\n    }\n\n    .dataframe tbody tr th {\n        vertical-align: top;\n    }\n\n    .dataframe thead th {\n        text-align: right;\n    }\n</style>\n<table border=\"1\" class=\"dataframe\">\n  <thead>\n    <tr style=\"text-align: right;\">\n      <th></th>\n      <th>Total</th>\n      <th>Percent</th>\n    </tr>\n  </thead>\n  <tbody>\n    <tr>\n      <th>building_id</th>\n      <td>0</td>\n      <td>0.0</td>\n    </tr>\n    <tr>\n      <th>meter</th>\n      <td>0</td>\n      <td>0.0</td>\n    </tr>\n    <tr>\n      <th>timestamp</th>\n      <td>0</td>\n      <td>0.0</td>\n    </tr>\n    <tr>\n      <th>meter_reading</th>\n      <td>0</td>\n      <td>0.0</td>\n    </tr>\n  </tbody>\n</table>\n</div>",
      "text/plain": "               Total  Percent\nbuilding_id        0      0.0\nmeter              0      0.0\ntimestamp          0      0.0\nmeter_reading      0      0.0"
     },
     "execution_count": 28,
     "metadata": {},
     "output_type": "execute_result"
    }
   ],
   "source": [
    "total = train_set.isnull().sum()\n",
    "percent = (train_set.isnull().sum()/train_set.isnull().count()*100)\n",
    "missing_train_data  = pd.concat([total, percent], axis=1, keys=['Total', 'Percent'])\n",
    "missing_train_data"
   ]
  },
  {
   "cell_type": "code",
   "execution_count": 29,
   "metadata": {},
   "outputs": [
    {
     "data": {
      "text/html": "<div>\n<style scoped>\n    .dataframe tbody tr th:only-of-type {\n        vertical-align: middle;\n    }\n\n    .dataframe tbody tr th {\n        vertical-align: top;\n    }\n\n    .dataframe thead th {\n        text-align: right;\n    }\n</style>\n<table border=\"1\" class=\"dataframe\">\n  <thead>\n    <tr style=\"text-align: right;\">\n      <th></th>\n      <th>Total</th>\n      <th>Percent</th>\n    </tr>\n  </thead>\n  <tbody>\n    <tr>\n      <th>site_id</th>\n      <td>0</td>\n      <td>0.000000</td>\n    </tr>\n    <tr>\n      <th>timestamp</th>\n      <td>0</td>\n      <td>0.000000</td>\n    </tr>\n    <tr>\n      <th>air_temperature</th>\n      <td>55</td>\n      <td>0.039350</td>\n    </tr>\n    <tr>\n      <th>cloud_coverage</th>\n      <td>69173</td>\n      <td>49.489529</td>\n    </tr>\n    <tr>\n      <th>dew_temperature</th>\n      <td>113</td>\n      <td>0.080845</td>\n    </tr>\n    <tr>\n      <th>precip_depth_1_hr</th>\n      <td>50289</td>\n      <td>35.979052</td>\n    </tr>\n    <tr>\n      <th>sea_level_pressure</th>\n      <td>10618</td>\n      <td>7.596603</td>\n    </tr>\n    <tr>\n      <th>wind_direction</th>\n      <td>6268</td>\n      <td>4.484414</td>\n    </tr>\n    <tr>\n      <th>wind_speed</th>\n      <td>304</td>\n      <td>0.217496</td>\n    </tr>\n  </tbody>\n</table>\n</div>",
      "text/plain": "                    Total    Percent\nsite_id                 0   0.000000\ntimestamp               0   0.000000\nair_temperature        55   0.039350\ncloud_coverage      69173  49.489529\ndew_temperature       113   0.080845\nprecip_depth_1_hr   50289  35.979052\nsea_level_pressure  10618   7.596603\nwind_direction       6268   4.484414\nwind_speed            304   0.217496"
     },
     "execution_count": 29,
     "metadata": {},
     "output_type": "execute_result"
    }
   ],
   "source": [
    "total = weather_train.isnull().sum()\n",
    "percent = (weather_train.isnull().sum()/weather_train.isnull().count()*100)\n",
    "missing_weather_data  = pd.concat([total, percent], axis=1, keys=['Total', 'Percent'])\n",
    "missing_weather_data"
   ]
  },
  {
   "cell_type": "code",
   "execution_count": 33,
   "metadata": {},
   "outputs": [
    {
     "data": {
      "text/html": "<div>\n<style scoped>\n    .dataframe tbody tr th:only-of-type {\n        vertical-align: middle;\n    }\n\n    .dataframe tbody tr th {\n        vertical-align: top;\n    }\n\n    .dataframe thead th {\n        text-align: right;\n    }\n</style>\n<table border=\"1\" class=\"dataframe\">\n  <thead>\n    <tr style=\"text-align: right;\">\n      <th></th>\n      <th>Total</th>\n      <th>Percent</th>\n    </tr>\n  </thead>\n  <tbody>\n    <tr>\n      <th>site_id</th>\n      <td>0</td>\n      <td>0.000000</td>\n    </tr>\n    <tr>\n      <th>building_id</th>\n      <td>0</td>\n      <td>0.000000</td>\n    </tr>\n    <tr>\n      <th>primary_use</th>\n      <td>0</td>\n      <td>0.000000</td>\n    </tr>\n    <tr>\n      <th>square_feet</th>\n      <td>0</td>\n      <td>0.000000</td>\n    </tr>\n    <tr>\n      <th>year_built</th>\n      <td>774</td>\n      <td>53.416149</td>\n    </tr>\n    <tr>\n      <th>floor_count</th>\n      <td>1094</td>\n      <td>75.500345</td>\n    </tr>\n  </tbody>\n</table>\n</div>",
      "text/plain": "             Total    Percent\nsite_id          0   0.000000\nbuilding_id      0   0.000000\nprimary_use      0   0.000000\nsquare_feet      0   0.000000\nyear_built     774  53.416149\nfloor_count   1094  75.500345"
     },
     "execution_count": 33,
     "metadata": {},
     "output_type": "execute_result"
    }
   ],
   "source": [
    "total = building_meta.isnull().sum()\n",
    "percent = (building_meta.isnull().sum()/building_meta.isnull().count()*100)\n",
    "missing_building_data  = pd.concat([total, percent], axis=1, keys=['Total', 'Percent'])\n",
    "missing_building_data"
   ]
  },
  {
   "cell_type": "markdown",
   "execution_count": null,
   "metadata": {},
   "outputs": [],
   "source": [
    "## Tratamento secundário dos dados\n",
    "\n",
    "Codificação de artibutos categóricos, preenchimento de valores faltantes, etc."
   ]
  },
  {
   "cell_type": "code",
   "execution_count": 30,
   "metadata": {},
   "outputs": [],
   "source": [
    "from sklearn.preprocessing import LabelEncoder\n",
    "\n",
    "labelEncoder = LabelEncoder()\n",
    "# building_meta['primary_use'] = labelEncoder.fit_transform(building_meta['primary_use'])"
   ]
  },
  {
   "cell_type": "code",
   "execution_count": 31,
   "metadata": {},
   "outputs": [],
   "source": [
    "full_train = pd.merge(pd.merge(train_set,building_meta,on='building_id'),weather_train,on=['site_id','timestamp'])"
   ]
  },
  {
   "cell_type": "code",
   "execution_count": 47,
   "metadata": {},
   "outputs": [],
   "source": [
    "# full_train = full_train.drop('floor_count',1)\n",
    "# full_train['precip_depth_1_hr'] = full_train['precip_depth_1_hr'].fillna(0.0)\n",
    "# full_train['cloud_coverage'] = full_train['cloud_coverage'].fillna(0.0)"
   ]
  },
  {
   "cell_type": "markdown",
   "execution_count": null,
   "metadata": {},
   "outputs": [],
   "source": [
    "## Treino e Validação"
   ]
  },
  {
   "cell_type": "code",
   "execution_count": 1,
   "metadata": {},
   "outputs": [],
   "source": [
    "from sklearn.model_selection import cross_val_score"
   ]
  },
  {
   "cell_type": "code",
   "execution_count": null,
   "metadata": {},
   "outputs": [],
   "source": []
  }
 ]
}